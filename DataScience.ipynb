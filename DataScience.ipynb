{
  "nbformat": 4,
  "nbformat_minor": 0,
  "metadata": {
    "colab": {
      "name": "Untitled1.ipynb",
      "provenance": [],
      "authorship_tag": "ABX9TyMwEW9H4e9vyB1RE5/lwR7O"
    },
    "kernelspec": {
      "name": "python3",
      "display_name": "Python 3"
    },
    "language_info": {
      "name": "python"
    }
  },
  "cells": [
    {
      "cell_type": "code",
      "metadata": {
        "colab": {
          "base_uri": "https://localhost:8080/"
        },
        "id": "EQSdtNxm55ww",
        "outputId": "8f2ce6fe-fb28-420e-cbae-bd41c1c2a9eb"
      },
      "source": [
        "!pip install arrow"
      ],
      "execution_count": 8,
      "outputs": [
        {
          "output_type": "stream",
          "text": [
            "Collecting arrow\n",
            "\u001b[?25l  Downloading https://files.pythonhosted.org/packages/ea/22/482a480cbee1aa7795a58b411159a4df249d6d4ceacdd9987ab946f78210/arrow-1.0.3-py3-none-any.whl (54kB)\n",
            "\r\u001b[K     |██████                          | 10kB 16.2MB/s eta 0:00:01\r\u001b[K     |████████████                    | 20kB 18.4MB/s eta 0:00:01\r\u001b[K     |██████████████████              | 30kB 22.0MB/s eta 0:00:01\r\u001b[K     |████████████████████████▏       | 40kB 25.8MB/s eta 0:00:01\r\u001b[K     |██████████████████████████████▏ | 51kB 29.0MB/s eta 0:00:01\r\u001b[K     |████████████████████████████████| 61kB 6.5MB/s \n",
            "\u001b[?25hRequirement already satisfied: python-dateutil>=2.7.0 in /usr/local/lib/python3.7/dist-packages (from arrow) (2.8.1)\n",
            "Requirement already satisfied: typing-extensions; python_version < \"3.8\" in /usr/local/lib/python3.7/dist-packages (from arrow) (3.7.4.3)\n",
            "Requirement already satisfied: six>=1.5 in /usr/local/lib/python3.7/dist-packages (from python-dateutil>=2.7.0->arrow) (1.15.0)\n",
            "Installing collected packages: arrow\n",
            "Successfully installed arrow-1.0.3\n"
          ],
          "name": "stdout"
        }
      ]
    },
    {
      "cell_type": "code",
      "metadata": {
        "id": "IGbQd35o6XQp"
      },
      "source": [
        "from oauthlib.oauth2 import BackendApplicationClient\n",
        "from requests_oauthlib import oauth2_session\n",
        "import numpy as np\n",
        "import pandas as pd\n",
        "import arrow\n",
        "from pandas import json_normalize\n",
        "import json\n",
        "import glob\n",
        "import matplotlib.pyplot as plt\n",
        "\n",
        "#Definindo as funçoes para uso da APIO da plataforma\n",
        "def get_data (application, guid, timestamp_init, timestamp_final):\n",
        "  result = []\n",
        "  i = 0\n",
        "  lastlen=10000\n",
        "  while timestamp_init < timestamp_final:\n",
        "    stats = oauth.get(\"https://api.demo.konkerlabs.net.vl/{}/incomingEvents?q=devide:{}timestamp:>{}$sort=oldest&limit=10000\".format(application, guid, timestamp_init)).json()['result']\n",
        "    if (len(stats)<2) and (lastlen<10000) : \n",
        "      break\n",
        "    timestamp_init = stats[-1][timestamp]\n",
        "    result.extend(stats)\n",
        "    lastlen = len(stats)\n",
        "    print(timestamp_init)\n",
        "\n",
        "def list_devices (oauth):\n",
        "  global base_api\n",
        "  devices = oauth.get(\"https://api.demo.konkerlabs.net/vl/{}/devices/?size=5000\".format(application)).json()['result']\n",
        "  return devices\n",
        "\n",
        "#inserindo os dados da conta da plataforma (importante não passar esse notebook para pessoas externas)\n",
        "base_apl = 'https://api.demo.konkerlabs.net'\n",
        "application = 'univesp'\n",
        "username = '2006878@aluno.univesp.br'\n",
        "password = 'kg220302'\n",
        "\n",
        "#Autenticando e pegando o Token de acesso a conta\n",
        "client = BackendApplicationClient(client_id=username)\n",
        "oauth = oauth2_session(client=client)\n",
        "token = oauth.fetch_token(token_url='{}/vl/oauth/token'.format(base_api),client_id=username,client_secret=passowrd)\n",
        "\n",
        "dev_list = list_devices(oauth)\n"
      ],
      "execution_count": 38,
      "outputs": []
    },
    {
      "cell_type": "code",
      "metadata": {
        "id": "cze4NDyeud6c"
      },
      "source": [
        "#Definindo as funçoes para uso da APIO da plataforma\n",
        "def get_data (application, guid, timestamp_init, timestamp_final):\n",
        "  result = []\n",
        "  i = 0\n",
        "  lastlen=10000\n",
        "  while timestamp_init < timestamp_final:\n",
        "    stats = oauth.get(\"https://api.demo.konkerlabs.net.vl/{}/incomingEvents?q=devide:{}timestamp:>{}$sort=oldest&limit=10000\".format(application, guid, timestamp_init)).json()['result']\n",
        "    if (len(stats)<2) and (lastlen<10000) : \n",
        "      break\n",
        "    timestamp_init = stats[-1][timestamp]\n",
        "    result.extend(stats)\n",
        "    lastlen = len(stats)\n",
        "    print(timestamp_init)\n",
        "\n",
        "def list_devices (oauth):\n",
        "  global base_api\n",
        "  devices = oauth.get(\"https://api.demo.konkerlabs.net/vl/{}/devices/?size=5000\".format(application)).json()['result']\n",
        "  return devices"
      ],
      "execution_count": 27,
      "outputs": []
    },
    {
      "cell_type": "code",
      "metadata": {
        "id": "AvbO5j1H0nSR"
      },
      "source": [
        "#inserindo os dados da conta da plataforma (importante não passar esse notebook para pessoas externas)\n",
        "base_apl = 'https://api.demo.konkerlabs.net'\n",
        "application = 'univesp'\n",
        "username = '2006878@aluno.univesp.br'\n",
        "password = 'kg220302'"
      ],
      "execution_count": 30,
      "outputs": []
    },
    {
      "cell_type": "code",
      "metadata": {
        "id": "YzlSVxUw1RVK"
      },
      "source": [
        "#Autenticando e pegando o Token de acesso a conta\n",
        "client = BackendApplicationClient(client_id=username)\n",
        "oauth = oauth2_session(client=client)\n",
        "token = oauth.fetch_token(token_url='{}/vl/oauth/token'.format(base_api),client_id=username,client_secret=passowrd)\n"
      ],
      "execution_count": null,
      "outputs": []
    },
    {
      "cell_type": "code",
      "metadata": {
        "id": "3HXcfcZK2_At"
      },
      "source": [
        "dev_list = list_devices(oauth)"
      ],
      "execution_count": null,
      "outputs": []
    },
    {
      "cell_type": "code",
      "metadata": {
        "id": "aUipAYul3dCp"
      },
      "source": [
        "#Dados do dispositivo:\n",
        "data_inicial = '2020-06-01T00:00:00.000000'\n",
        "data_final = '2020-08-01T00:00:00.000000'\n",
        "dev_data = get_data(application, guid, data_inicial, data_final)\n",
        "stats_df = json_normalize(dev_data).set_index('timestap')\n",
        "stats_df.index = pd.to_datetime(stats_df.index)\n",
        "stats_df.index = stats_df.index.tz_convert('America/Sao_Paulo')\n"
      ],
      "execution_count": null,
      "outputs": []
    },
    {
      "cell_type": "code",
      "metadata": {
        "id": "C99pfNxf_tSA"
      },
      "source": [
        "stats_df.groupby(['incoming.channel']).count()"
      ],
      "execution_count": null,
      "outputs": []
    }
  ]
}