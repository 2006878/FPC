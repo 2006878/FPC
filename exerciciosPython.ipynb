{
  "nbformat": 4,
  "nbformat_minor": 0,
  "metadata": {
    "colab": {
      "name": "exerciciosPython.ipynb",
      "provenance": [],
      "authorship_tag": "ABX9TyPJdUePXaTHWO/Ni//BIJRL",
      "include_colab_link": true
    },
    "kernelspec": {
      "name": "python3",
      "display_name": "Python 3"
    }
  },
  "cells": [
    {
      "cell_type": "markdown",
      "metadata": {
        "id": "view-in-github",
        "colab_type": "text"
      },
      "source": [
        "<a href=\"https://colab.research.google.com/github/2006878/FPC/blob/main/exerciciosPython.ipynb\" target=\"_parent\"><img src=\"https://colab.research.google.com/assets/colab-badge.svg\" alt=\"Open In Colab\"/></a>"
      ]
    },
    {
      "cell_type": "code",
      "metadata": {
        "id": "hvpUAl6mWCTT"
      },
      "source": [
        "#USANDO COMO UMA FUNÇÃO\r\n",
        "def exercicio1():\r\n",
        "  palavra=input(\"Digite uma palavra: \")\r\n",
        "  lista = list(palavra)\r\n",
        "  segredo=\"\"\r\n",
        "  for x in lista:\r\n",
        "    if (x=='z'): segredo+='a'\r\n",
        "    elif (x=='Z'): segredo+='A'\r\n",
        "    else: segredo+=chr(ord(x)+1)\r\n",
        "  print(segredo)"
      ],
      "execution_count": 2,
      "outputs": []
    },
    {
      "cell_type": "code",
      "metadata": {
        "colab": {
          "base_uri": "https://localhost:8080/"
        },
        "id": "ad_GGMQfX612",
        "outputId": "9873399e-c2e4-4445-b891-24054e3d7837"
      },
      "source": [
        "#USANDO FORA DA FUNÇÃO\r\n",
        "palavra=input(\"Digite uma palavra: \")\r\n",
        "lista = list(palavra)\r\n",
        "segredo=\"\"\r\n",
        "for x in lista:\r\n",
        "  if (x=='z'): segredo+='a'\r\n",
        "  elif (x=='Z'): segredo+='A'\r\n",
        "  else: segredo+=chr(ord(x)+1)\r\n",
        "print(segredo)"
      ],
      "execution_count": 10,
      "outputs": [
        {
          "output_type": "stream",
          "text": [
            "Digite uma palavra: UNIVESP\n",
            "VOJWFTQ\n"
          ],
          "name": "stdout"
        }
      ]
    },
    {
      "cell_type": "code",
      "metadata": {
        "colab": {
          "base_uri": "https://localhost:8080/"
        },
        "id": "pcwQI__OYbtn",
        "outputId": "5ac20253-a3f5-4584-a323-aa0f0024b3f6"
      },
      "source": [
        "exercicio1()"
      ],
      "execution_count": 11,
      "outputs": [
        {
          "output_type": "stream",
          "text": [
            "Digite uma palavra: UNIVESP\n",
            "VOJWFTQ\n"
          ],
          "name": "stdout"
        }
      ]
    },
    {
      "cell_type": "code",
      "metadata": {
        "colab": {
          "base_uri": "https://localhost:8080/"
        },
        "id": "a5TybHJJZSaf",
        "outputId": "328ae6b3-c051-46dd-e0c6-00e967e53161"
      },
      "source": [
        "lista_notas = [10,5,8] #Lista / Array\r\n",
        "lista_notas[1]"
      ],
      "execution_count": 12,
      "outputs": [
        {
          "output_type": "execute_result",
          "data": {
            "text/plain": [
              "5"
            ]
          },
          "metadata": {
            "tags": []
          },
          "execution_count": 12
        }
      ]
    },
    {
      "cell_type": "code",
      "metadata": {
        "colab": {
          "base_uri": "https://localhost:8080/"
        },
        "id": "QflhBUa-Zp1N",
        "outputId": "e66acd39-8992-4af1-f912-910d69b08dfd"
      },
      "source": [
        "#dicionário\r\n",
        "dicionario_alunos = {\"nome\":\"Fulano\", \"idade\":\"22\"}\r\n",
        "dicionario_alunos[\"nome\"], dicionario_alunos[\"idade\"]"
      ],
      "execution_count": 35,
      "outputs": [
        {
          "output_type": "execute_result",
          "data": {
            "text/plain": [
              "('Fulano', '22')"
            ]
          },
          "metadata": {
            "tags": []
          },
          "execution_count": 35
        }
      ]
    }
  ]
}